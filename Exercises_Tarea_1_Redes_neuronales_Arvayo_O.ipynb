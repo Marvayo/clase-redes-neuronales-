{
  "nbformat": 4,
  "nbformat_minor": 0,
  "metadata": {
    "colab": {
      "name": "Exercises_Tarea 1 Redes neuronales_Arvayo O.ipynb",
      "provenance": [],
      "collapsed_sections": [],
      "include_colab_link": true
    },
    "kernelspec": {
      "name": "python3",
      "display_name": "Python 3"
    },
    "language_info": {
      "name": "python"
    }
  },
  "cells": [
    {
      "cell_type": "markdown",
      "metadata": {
        "id": "view-in-github",
        "colab_type": "text"
      },
      "source": [
        "<a href=\"https://colab.research.google.com/github/Marvayo/How-to-implement-an-ML-pipeline/blob/master/Exercises_Tarea_1_Redes_neuronales_Arvayo_Ortega_m09330569.ipynb\" target=\"_parent\"><img src=\"https://colab.research.google.com/assets/colab-badge.svg\" alt=\"Open In Colab\"/></a>"
      ]
    },
    {
      "cell_type": "markdown",
      "source": [
        "**TAREA 1  REDES NEURONALES** \n",
        "\n",
        "**MARLETTE GUADALUPE ARVAYO ORTEGA**\n",
        "\n",
        "**M09330569**"
      ],
      "metadata": {
        "id": "pVWo1S3A0Nvy"
      }
    },
    {
      "cell_type": "markdown",
      "source": [
        "**1. Validate subsequence**\n",
        "\n",
        "Given two non-empty arrays of integers, write a function that determines whether the second array is a subsequence of the first one.\n",
        "\n",
        "A subsequence of an array is a set of numbers that aren't necessarily adjacent in the array but that are in the same order as they appear in the array.\n",
        "\n",
        "For instance, the numbers [1,3,4] form a subsequence of the array [1,2,3,4], and so do the sequence [2,4].\n",
        "\n",
        "Note that a single number in an array and the array itself are both valid subsequences of the array."
      ],
      "metadata": {
        "id": "Skk4oLY_uIhd"
      }
    },
    {
      "cell_type": "code",
      "execution_count": null,
      "metadata": {
        "colab": {
          "base_uri": "https://localhost:8080/"
        },
        "id": "eeKJfcsdt4CC",
        "outputId": "7d1c07e0-e7ae-4a85-d9a7-14ca5a657303"
      },
      "outputs": [
        {
          "output_type": "execute_result",
          "data": {
            "text/plain": [
              "True"
            ]
          },
          "metadata": {},
          "execution_count": 1
        }
      ],
      "source": [
        "#sample input\n",
        "array = [5,1,22,25,6,-1,8,10]\n",
        "sequence = [1,6,-1,10]\n",
        "#sample output \n",
        "True  "
      ]
    },
    {
      "cell_type": "code",
      "source": [
        "def is_valid_subsequence(array, sequence):\n",
        "    num=0\n",
        "    for i in array:\n",
        "        if num==len(sequence):\n",
        "            break\n",
        "        if sequence[num]==i:\n",
        "            num=num+1\n",
        "            \n",
        "    if num==len(sequence): \n",
        "        print(\"El arreglo, si es una subsecuencia\")\n",
        "    else:\n",
        "        print(\"El arreglo, no es una subsecuencia\")"
      ],
      "metadata": {
        "id": "OcVxyQiKudLr"
      },
      "execution_count": null,
      "outputs": []
    },
    {
      "cell_type": "code",
      "source": [
        "is_valid_subsequence(array, sequence)\n"
      ],
      "metadata": {
        "colab": {
          "base_uri": "https://localhost:8080/"
        },
        "id": "ut6MB5ZtuiqN",
        "outputId": "1b88ac43-b6e8-493d-dd32-ee8e742e639b"
      },
      "execution_count": null,
      "outputs": [
        {
          "output_type": "stream",
          "name": "stdout",
          "text": [
            "El arreglo, si es una subsecuencia\n"
          ]
        }
      ]
    },
    {
      "cell_type": "markdown",
      "source": [
        "**2. Sorted squared array**\n",
        "\n",
        "Write a function that takes in a non-empty array of integers that are sorted in ascending order and returns a new array of the same length with the squares of the original integers also sorted in ascending order."
      ],
      "metadata": {
        "id": "t6MOdDTg0yA6"
      }
    },
    {
      "cell_type": "code",
      "source": [
        "#sample input\n",
        "array = [1,2,3,5,6,8,9]\n",
        "array2=[]\n",
        "numero=0\n"
      ],
      "metadata": {
        "id": "YWivsbRP05qQ"
      },
      "execution_count": null,
      "outputs": []
    },
    {
      "cell_type": "code",
      "source": [
        "def sorted_squared_array(array):\n",
        "  for i in array: \n",
        "        numero=i*i\n",
        "        array2.append(numero)\n",
        "  return array2"
      ],
      "metadata": {
        "id": "tQPfPI6A05zy"
      },
      "execution_count": null,
      "outputs": []
    },
    {
      "cell_type": "code",
      "source": [
        "#Test your code here\n",
        "sorted_squared_array(array)"
      ],
      "metadata": {
        "colab": {
          "base_uri": "https://localhost:8080/"
        },
        "id": "cQf2dhms058g",
        "outputId": "1cfe0924-bbba-44b2-d1b2-ded82cffd518"
      },
      "execution_count": null,
      "outputs": [
        {
          "output_type": "execute_result",
          "data": {
            "text/plain": [
              "[1, 4, 9, 25, 36, 64, 81]"
            ]
          },
          "metadata": {},
          "execution_count": 6
        }
      ]
    },
    {
      "cell_type": "markdown",
      "source": [
        "**3. Binary search**\n",
        "\n",
        "Write a function that takes in a sorted array of integers as well as a target integer. The funciton should use the Binary Search algorithm to determine if the target integer is contained in the array and should return its index if it is, otherwise -1.\n",
        "\n",
        "Review of the Binary Search algorithm https://youtu.be/P3YID7liBug"
      ],
      "metadata": {
        "id": "AErsnllW37sR"
      }
    },
    {
      "cell_type": "code",
      "source": [
        "#Sample input\n",
        "array = [0,1,21,33,45,45,31,71,72,73]\n",
        "target = 33\n",
        "#Sample output\n",
        "#3"
      ],
      "metadata": {
        "id": "wgvrJmI806kp"
      },
      "execution_count": null,
      "outputs": []
    },
    {
      "cell_type": "code",
      "source": [
        "def binary_search(array, target):\n",
        "    lo = 0\n",
        "    hi = len(array) - 1\n",
        "    mid = 0\n",
        "\n",
        "    while lo <= hi:\n",
        "        mid = (hi + lo) // 2\n",
        "        if array[mid] < target:\n",
        "            lo = mid + 1\n",
        "        elif array[mid] > target:\n",
        "            hi = mid - 1\n",
        "        else:\n",
        "            return mid\n",
        "    return -1\n",
        "res=binary_search(array,target)\n",
        "if res != -1:\n",
        "    print(\"El número se encuentra en el indice\", res, \"del arreglo\")\n",
        "else:\n",
        "    print(\"El número no se encuentra en el arreglo\")\n"
      ],
      "metadata": {
        "colab": {
          "base_uri": "https://localhost:8080/"
        },
        "id": "K1PeEy6M4FOX",
        "outputId": "92dfc525-7ed2-4cfc-a981-f4a5b13c169b"
      },
      "execution_count": null,
      "outputs": [
        {
          "output_type": "stream",
          "name": "stdout",
          "text": [
            "El número se encuentra en el indice 3 del arreglo\n"
          ]
        }
      ]
    },
    {
      "cell_type": "code",
      "source": [
        "#Test your code\n",
        "binary_search(array, target)  "
      ],
      "metadata": {
        "colab": {
          "base_uri": "https://localhost:8080/"
        },
        "id": "QkSxRk7k4FXA",
        "outputId": "427886bb-df3b-4486-ef51-820ace32d03b"
      },
      "execution_count": null,
      "outputs": [
        {
          "output_type": "execute_result",
          "data": {
            "text/plain": [
              "3"
            ]
          },
          "metadata": {},
          "execution_count": 9
        }
      ]
    },
    {
      "cell_type": "markdown",
      "source": [
        "**4. Depth-first search**\n",
        "\n",
        "You're given a Node class that has a name and an array of optional children nodes. When put together, nodes form an acyclic tree-like structure.\n",
        "\n",
        "Implement the depth_first_search method on the Node class, which takes in an empty array, traverses the tree using the Depth-First Search approach (specifically navigating the tree from left to right) stores all of the nodes' names in the input array, and returns it.\n",
        "\n",
        "If you are unfamiliar with Depth-First search here is a tutorial https://youtu.be/zaBhtODEL0w\n",
        "\n",
        "(Double click to see properly)\n",
        "\n",
        "Sample input graph = A / | \\ B C D / \\ / \\ E F G H / \\ \\ I J K\n",
        "\n",
        "Sample output ['A','B','E','F','I','J','C','D','G','K','H']"
      ],
      "metadata": {
        "id": "7D0Mln6z4I7h"
      }
    },
    {
      "cell_type": "code",
      "source": [
        "# Do not edit the class below except\n",
        "# for the depth_first_search method.\n",
        "# Feel free to add new properties\n",
        "# and methods to the class.\n",
        "class Node:\n",
        "    def __init__(self, name):\n",
        "        self.children = []\n",
        "        self.name = name\n",
        "\n",
        "    def addChild(self, name):\n",
        "        self.children.append(Node(name))\n",
        "        return self\n",
        "\n",
        "    def depth_first_search(self, array):\n",
        "        array.append(self.name)\n",
        "        for i in self.children: \n",
        "            i.depth_first_search(array)\n",
        "        return array\n",
        "\n",
        "\n",
        "#Graph instance\n",
        "graph = Node(\"A\")\n",
        "graph.addChild(\"B\").addChild(\"C\").addChild(\"D\")\n",
        "graph.children[0].addChild(\"E\").addChild(\"F\")\n",
        "graph.children[2].addChild(\"G\").addChild(\"H\")\n",
        "graph.children[0].children[1].addChild(\"I\").addChild(\"J\")\n",
        "graph.children[2].children[0].addChild(\"K\")\n",
        "    \n",
        "print(graph.depth_first_search([]))"
      ],
      "metadata": {
        "colab": {
          "base_uri": "https://localhost:8080/"
        },
        "id": "uxN5WCyv4OD2",
        "outputId": "4a5133bd-2843-4792-9bf0-d8bdc82b175d"
      },
      "execution_count": null,
      "outputs": [
        {
          "output_type": "stream",
          "name": "stdout",
          "text": [
            "['A', 'B', 'E', 'F', 'I', 'J', 'C', 'D', 'G', 'K', 'H']\n"
          ]
        }
      ]
    },
    {
      "cell_type": "code",
      "source": [
        "graph.depth_first_search([])\n"
      ],
      "metadata": {
        "colab": {
          "base_uri": "https://localhost:8080/"
        },
        "id": "ZDMVHizm4Ocm",
        "outputId": "69239ba9-0823-42c6-8d6d-77f45e860b7f"
      },
      "execution_count": null,
      "outputs": [
        {
          "output_type": "execute_result",
          "data": {
            "text/plain": [
              "['A', 'B', 'E', 'F', 'I', 'J', 'C', 'D', 'G', 'K', 'H']"
            ]
          },
          "metadata": {},
          "execution_count": 11
        }
      ]
    },
    {
      "cell_type": "markdown",
      "source": [
        "**5. Bubble sort**\n",
        "\n",
        "Write a function that takes in an array of integers and returns a sorted version of that array.\n",
        "\n",
        "Use the bubble sort algorithm to sort the array.\n",
        "\n",
        "Bubble sort review https://youtu.be/6Gv8vg0kcHc"
      ],
      "metadata": {
        "id": "pk7hghG74YwY"
      }
    },
    {
      "cell_type": "code",
      "source": [
        "#Sample input\n",
        "array = [8,5,2,9,5,6,3]\n",
        "#Sample output\n",
        "#[2,3,5,5,6,8,9]"
      ],
      "metadata": {
        "id": "Pf5TUhbp4fnQ"
      },
      "execution_count": null,
      "outputs": []
    },
    {
      "cell_type": "code",
      "source": [
        "def bubble_sort(array):\n",
        "    for i in range(1,len(array)):\n",
        "        #print(1,len(array))\n",
        "        for j in range(0,len(array)-i):\n",
        "           # print(0,len(array)-i)\n",
        "            if(array[j+1] < array[j]):\n",
        "                #print(array[j+1])\n",
        "                aux=array[j]\n",
        "                #print(aux)\n",
        "                array[j]=array[j+1]\n",
        "                array[j+1]=aux\n",
        "    return array\n",
        "  "
      ],
      "metadata": {
        "id": "o5nfkPzJ4f1P"
      },
      "execution_count": null,
      "outputs": []
    },
    {
      "cell_type": "code",
      "source": [
        "#test your code\n",
        "bubble_sort(array)  "
      ],
      "metadata": {
        "colab": {
          "base_uri": "https://localhost:8080/"
        },
        "id": "1l_wbu1U4f8X",
        "outputId": "080db2f8-4702-4f42-a7d5-961471b28edc"
      },
      "execution_count": null,
      "outputs": [
        {
          "output_type": "execute_result",
          "data": {
            "text/plain": [
              "[2, 3, 5, 5, 6, 8, 9]"
            ]
          },
          "metadata": {},
          "execution_count": 14
        }
      ]
    }
  ]
}
