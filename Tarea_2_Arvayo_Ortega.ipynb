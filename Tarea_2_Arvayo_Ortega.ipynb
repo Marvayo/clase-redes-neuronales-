{
  "cells": [
    {
      "cell_type": "markdown",
      "metadata": {
        "id": "view-in-github",
        "colab_type": "text"
      },
      "source": [
        "<a href=\"https://colab.research.google.com/github/Marvayo/How-to-implement-an-ML-pipeline/blob/master/Tarea_2_Arvayo_Ortega.ipynb\" target=\"_parent\"><img src=\"https://colab.research.google.com/assets/colab-badge.svg\" alt=\"Open In Colab\"/></a>"
      ]
    },
    {
      "cell_type": "code",
      "execution_count": 30,
      "metadata": {
        "colab": {
          "base_uri": "https://localhost:8080/",
          "height": 34
        },
        "id": "2j4VS6PN9S4b",
        "outputId": "f2fdd91f-f544-4fd7-9dfc-b619183791c3"
      },
      "outputs": [
        {
          "output_type": "execute_result",
          "data": {
            "text/plain": [
              "<IPython.core.display.Image object>"
            ],
            "image/png": "./dnn.jpg"
          },
          "metadata": {},
          "execution_count": 30
        }
      ],
      "source": [
        "import IPython\n",
        "from IPython import display\n",
        "display.Image(\"./dnn.jpg\")"
      ]
    },
    {
      "cell_type": "code",
      "execution_count": 31,
      "metadata": {
        "id": "3bWCCy4J9ZCL"
      },
      "outputs": [],
      "source": [
        "import tensorflow as tf\n",
        "import matplotlib.pyplot as plt\n",
        "import numpy as np"
      ]
    },
    {
      "cell_type": "code",
      "execution_count": 32,
      "metadata": {
        "id": "oPfzTS6B9ZMy"
      },
      "outputs": [],
      "source": [
        "(train_images, train_labels), (validation_images, validation_labels) = tf.keras.datasets.mnist.load_data()"
      ]
    },
    {
      "cell_type": "code",
      "execution_count": 33,
      "metadata": {
        "colab": {
          "base_uri": "https://localhost:8080/",
          "height": 477
        },
        "id": "Mt0uy_sg9ZQM",
        "outputId": "751dc890-be52-4097-dcba-555ba878cc12"
      },
      "outputs": [
        {
          "output_type": "stream",
          "name": "stdout",
          "text": [
            "Train set size 60000 is around 85.7% of the data. Each data point has dimensions (28, 28)\n",
            "Validation(Dev) set size 10000 is around 14.3% of the data. Each data point has dimensions (28, 28)\n",
            "There are 10 classes. They are [0, 1, 2, 3, 4, 5, 6, 7, 8, 9]\n"
          ]
        },
        {
          "output_type": "display_data",
          "data": {
            "text/plain": [
              "<Figure size 504x504 with 9 Axes>"
            ],
            "image/png": "[encoded data removed]"
          },
          "metadata": {}
        }
      ],
      "source": [
        "#dataset properties\n",
        "train_ds_size = len(train_images)\n",
        "validation_ds_size = len(validation_images)\n",
        "class_names = list(set(train_labels))\n",
        "ds_size = train_ds_size + validation_ds_size\n",
        "print(f'Train set size {train_ds_size} is around {np.around(train_ds_size/ds_size * 100,1)}% of the data. Each data point has dimensions {train_images.shape[1:]}')\n",
        "print(f'Validation(Dev) set size {validation_ds_size} is around {np.around(validation_ds_size/ds_size * 100,1)}% of the data. Each data point has dimensions {validation_images.shape[1:]}')\n",
        "print(f'There are {len(class_names)} classes. They are {class_names}')\n",
        "\n",
        "plt.figure(figsize=(7,7))\n",
        "for i in range(9):\n",
        "    plt.subplot(3,3,i+1)\n",
        "    plt.xticks([])\n",
        "    plt.yticks([])\n",
        "    plt.grid(False)\n",
        "    plt.imshow(train_images[i])\n",
        "    # The CIFAR labels happen to be arrays, \n",
        "    # which is why you need the extra index\n",
        "    plt.xlabel(class_names[train_labels[i]])\n",
        "plt.show()"
      ]
    },
    {
      "cell_type": "code",
      "execution_count": 34,
      "metadata": {
        "colab": {
          "base_uri": "https://localhost:8080/"
        },
        "id": "0Bwrg6pw9ZSx",
        "outputId": "158da153-4293-4923-ba43-071283b9c1ac"
      },
      "outputs": [
        {
          "output_type": "stream",
          "name": "stdout",
          "text": [
            "Train set size 60000 is around 85.7% of the data. Each data point has dimensions (28, 28)\n",
            "Validation(Dev) set size 8000 is around 11.4% of the data. Each data point has dimensions (28, 28)\n",
            "Test set size 2000 is around 2.9% of the data. Each data point has dimensions (28, 28)\n",
            "There are 10 classes. They are [0, 1, 2, 3, 4, 5, 6, 7, 8, 9]\n"
          ]
        }
      ],
      "source": [
        "#Select a ratio of the validation set images to use as test images\n",
        "ratio = 0.8\n",
        "#New test set\n",
        "test_images = validation_images[int(validation_ds_size * ratio):]\n",
        "test_labels = validation_labels[int(validation_ds_size * ratio):]\n",
        "#New validation set\n",
        "validation_images=validation_images[:int(validation_ds_size * ratio)]\n",
        "validation_labels=validation_labels[:int(validation_ds_size * ratio)]\n",
        "#dataset properties\n",
        "train_ds_size = len(train_images)\n",
        "validation_ds_size = len(validation_images)\n",
        "test_ds_size = len(test_images)\n",
        "class_names = list(set(train_labels))\n",
        "ds_size = train_ds_size + validation_ds_size + test_ds_size\n",
        "\n",
        "print(f'Train set size {train_ds_size} is around {np.around(train_ds_size/ds_size * 100,1)}% of the data. Each data point has dimensions {train_images.shape[1:]}')\n",
        "print(f'Validation(Dev) set size {validation_ds_size} is around {np.around(validation_ds_size/ds_size * 100,1)}% of the data. Each data point has dimensions {validation_images.shape[1:]}')\n",
        "print(f'Test set size {test_ds_size} is around {np.around(test_ds_size/ds_size * 100,1)}% of the data. Each data point has dimensions {test_images.shape[1:]}')\n",
        "print(f'There are {len(class_names)} classes. They are {class_names}')"
      ]
    },
    {
      "cell_type": "code",
      "execution_count": 35,
      "metadata": {
        "id": "-mUTsuzM9ZVJ"
      },
      "outputs": [],
      "source": [
        "normalize = True\n",
        "if normalize == True:\n",
        "    train_images = train_images / 255.0\n",
        "    validation_images = validation_images / 255.0\n",
        "    test_images = test_images / 255.0"
      ]
    },
    {
      "cell_type": "code",
      "execution_count": 90,
      "metadata": {
        "id": "pUZKSfQA9ZXz"
      },
      "outputs": [],
      "source": [
        "def build_model(num_classes=len(class_names), hidden_layers=1, units=128, data_shape=train_images.shape[1:]):\n",
        "    model = tf.keras.Sequential()\n",
        "    # input layer\n",
        "    model.add(tf.keras.layers.InputLayer(input_shape=list(data_shape)))\n",
        "    # MLP required shape\n",
        "    model.add(tf.keras.layers.Flatten())\n",
        "    \n",
        "    #hidden layer(s)\n",
        "    #for hidden_layer in range(1,hidden_layers+1):\n",
        "      #  model.add(tf.keras.layers.Dense(units, activation='relu'))\n",
        "    \n",
        "    model.add(tf.keras.layers.Dense(162, activation='relu'))\n",
        "    #output layer\n",
        "    model.add(tf.keras.layers.Dense(num_classes, activation='softmax')) \n",
        "    #model.add(tf.keras.layers.Dense(num_classes, activation='softmax', kernel_regularizer=tf.keras.regularizers.L2(0.1))) \n",
        "    \n",
        "    loss=tf.keras.losses.SparseCategoricalCrossentropy() \n",
        "    metrics=['accuracy']\n",
        "    optimizer=tf.keras.optimizers.Adam()\n",
        "    \n",
        "    model.compile(loss=loss, metrics=metrics, optimizer=optimizer)\n",
        "    \n",
        "    return model"
      ]
    },
    {
      "cell_type": "code",
      "execution_count": 91,
      "metadata": {
        "colab": {
          "base_uri": "https://localhost:8080/"
        },
        "id": "wwXgClSw9ZaR",
        "outputId": "1b020da2-ed0b-42cc-e74c-3d66f6838c80"
      },
      "outputs": [
        {
          "output_type": "stream",
          "name": "stdout",
          "text": [
            "Model: \"sequential_11\"\n",
            "_________________________________________________________________\n",
            " Layer (type)                Output Shape              Param #   \n",
            "=================================================================\n",
            " flatten_11 (Flatten)        (None, 784)               0         \n",
            "                                                                 \n",
            " dense_22 (Dense)            (None, 162)               127170    \n",
            "                                                                 \n",
            " dense_23 (Dense)            (None, 10)                1630      \n",
            "                                                                 \n",
            "=================================================================\n",
            "Total params: 128,800\n",
            "Trainable params: 128,800\n",
            "Non-trainable params: 0\n",
            "_________________________________________________________________\n"
          ]
        }
      ],
      "source": [
        "model = build_model()\n",
        "# Verify that the network is as you imagined\n",
        "model.summary()"
      ]
    },
    {
      "cell_type": "code",
      "execution_count": 92,
      "metadata": {
        "colab": {
          "base_uri": "https://localhost:8080/"
        },
        "id": "qJvOvJJq9Zcz",
        "outputId": "2f0a3a79-e219-4104-8946-66172c1ab9f9"
      },
      "outputs": [
        {
          "output_type": "stream",
          "name": "stdout",
          "text": [
            "Epoch 1/30\n",
            "1875/1875 [==============================] - 7s 3ms/step - loss: 0.2528 - accuracy: 0.9271 - val_loss: 0.1497 - val_accuracy: 0.9555\n",
            "Epoch 2/30\n",
            "1875/1875 [==============================] - 6s 3ms/step - loss: 0.1098 - accuracy: 0.9673 - val_loss: 0.1058 - val_accuracy: 0.9668\n",
            "Epoch 3/30\n",
            "1875/1875 [==============================] - 6s 3ms/step - loss: 0.0741 - accuracy: 0.9775 - val_loss: 0.0858 - val_accuracy: 0.9737\n",
            "Epoch 4/30\n",
            "1875/1875 [==============================] - 6s 3ms/step - loss: 0.0539 - accuracy: 0.9837 - val_loss: 0.0759 - val_accuracy: 0.9776\n",
            "Epoch 5/30\n",
            "1875/1875 [==============================] - 6s 3ms/step - loss: 0.0411 - accuracy: 0.9873 - val_loss: 0.0755 - val_accuracy: 0.9756\n",
            "Epoch 6/30\n",
            "1875/1875 [==============================] - 6s 3ms/step - loss: 0.0320 - accuracy: 0.9901 - val_loss: 0.0764 - val_accuracy: 0.9766\n",
            "Epoch 7/30\n",
            "1875/1875 [==============================] - 6s 3ms/step - loss: 0.0252 - accuracy: 0.9922 - val_loss: 0.0816 - val_accuracy: 0.9768\n",
            "Epoch 8/30\n",
            "1875/1875 [==============================] - 6s 3ms/step - loss: 0.0202 - accuracy: 0.9938 - val_loss: 0.0902 - val_accuracy: 0.9750\n",
            "Epoch 9/30\n",
            "1875/1875 [==============================] - 6s 3ms/step - loss: 0.0171 - accuracy: 0.9942 - val_loss: 0.1142 - val_accuracy: 0.9699\n",
            "Epoch 10/30\n",
            "1875/1875 [==============================] - 6s 3ms/step - loss: 0.0123 - accuracy: 0.9964 - val_loss: 0.0917 - val_accuracy: 0.9769\n",
            "Epoch 11/30\n",
            "1875/1875 [==============================] - 6s 3ms/step - loss: 0.0122 - accuracy: 0.9963 - val_loss: 0.0880 - val_accuracy: 0.9779\n",
            "Epoch 12/30\n",
            "1875/1875 [==============================] - 6s 3ms/step - loss: 0.0094 - accuracy: 0.9971 - val_loss: 0.0879 - val_accuracy: 0.9775\n",
            "Epoch 13/30\n",
            "1875/1875 [==============================] - 6s 3ms/step - loss: 0.0086 - accuracy: 0.9973 - val_loss: 0.0844 - val_accuracy: 0.9800\n",
            "Epoch 14/30\n",
            "1875/1875 [==============================] - 6s 3ms/step - loss: 0.0079 - accuracy: 0.9973 - val_loss: 0.0981 - val_accuracy: 0.9778\n",
            "Epoch 15/30\n",
            "1875/1875 [==============================] - 6s 3ms/step - loss: 0.0075 - accuracy: 0.9974 - val_loss: 0.1026 - val_accuracy: 0.9779\n",
            "Epoch 16/30\n",
            "1875/1875 [==============================] - 6s 3ms/step - loss: 0.0056 - accuracy: 0.9984 - val_loss: 0.1042 - val_accuracy: 0.9769\n",
            "Epoch 17/30\n",
            "1875/1875 [==============================] - 6s 3ms/step - loss: 0.0067 - accuracy: 0.9977 - val_loss: 0.1004 - val_accuracy: 0.9781\n",
            "Epoch 18/30\n",
            "1875/1875 [==============================] - 6s 3ms/step - loss: 0.0045 - accuracy: 0.9986 - val_loss: 0.1203 - val_accuracy: 0.9770\n",
            "Epoch 19/30\n",
            "1875/1875 [==============================] - 6s 3ms/step - loss: 0.0072 - accuracy: 0.9976 - val_loss: 0.1074 - val_accuracy: 0.9770\n",
            "Epoch 20/30\n",
            "1875/1875 [==============================] - 6s 3ms/step - loss: 0.0052 - accuracy: 0.9983 - val_loss: 0.1253 - val_accuracy: 0.9750\n",
            "Epoch 21/30\n",
            "1875/1875 [==============================] - 6s 3ms/step - loss: 0.0058 - accuracy: 0.9981 - val_loss: 0.1298 - val_accuracy: 0.9768\n",
            "Epoch 22/30\n",
            "1875/1875 [==============================] - 6s 3ms/step - loss: 0.0052 - accuracy: 0.9983 - val_loss: 0.1323 - val_accuracy: 0.9766\n",
            "Epoch 23/30\n",
            "1875/1875 [==============================] - 6s 3ms/step - loss: 0.0038 - accuracy: 0.9988 - val_loss: 0.1228 - val_accuracy: 0.9784\n",
            "Epoch 24/30\n",
            "1875/1875 [==============================] - 6s 3ms/step - loss: 0.0051 - accuracy: 0.9982 - val_loss: 0.1177 - val_accuracy: 0.9797\n",
            "Epoch 25/30\n",
            "1875/1875 [==============================] - 6s 3ms/step - loss: 0.0031 - accuracy: 0.9990 - val_loss: 0.1196 - val_accuracy: 0.9800\n",
            "Epoch 26/30\n",
            "1875/1875 [==============================] - 6s 3ms/step - loss: 0.0055 - accuracy: 0.9982 - val_loss: 0.1321 - val_accuracy: 0.9784\n",
            "Epoch 27/30\n",
            "1875/1875 [==============================] - 7s 4ms/step - loss: 0.0035 - accuracy: 0.9990 - val_loss: 0.1314 - val_accuracy: 0.9766\n",
            "Epoch 28/30\n",
            "1875/1875 [==============================] - 6s 3ms/step - loss: 0.0029 - accuracy: 0.9991 - val_loss: 0.1171 - val_accuracy: 0.9797\n",
            "Epoch 29/30\n",
            "1875/1875 [==============================] - 6s 3ms/step - loss: 0.0038 - accuracy: 0.9988 - val_loss: 0.1427 - val_accuracy: 0.9785\n",
            "Epoch 30/30\n",
            "1875/1875 [==============================] - 6s 3ms/step - loss: 0.0044 - accuracy: 0.9983 - val_loss: 0.1373 - val_accuracy: 0.9787\n"
          ]
        }
      ],
      "source": [
        "history = model.fit(train_images, train_labels, epochs=30, batch_size=32, validation_data=(validation_images, validation_labels))\n"
      ]
    },
    {
      "cell_type": "code",
      "execution_count": 93,
      "metadata": {
        "colab": {
          "base_uri": "https://localhost:8080/",
          "height": 499
        },
        "id": "dSkOrnIW9Zfq",
        "outputId": "722f05f5-ba63-4a0d-ee9a-f1714459b00c"
      },
      "outputs": [
        {
          "output_type": "display_data",
          "data": {
            "text/plain": [
              "<Figure size 1152x576 with 2 Axes>"
            ],
            "image/png": "[encoded data removed]"
          },
          "metadata": {
            "needs_background": "light"
          }
        }
      ],
      "source": [
        "acc = history.history['accuracy']\n",
        "val_acc = history.history['val_accuracy']\n",
        "\n",
        "loss = history.history['loss']\n",
        "val_loss = history.history['val_loss']\n",
        "\n",
        "epochs_range = range(30)\n",
        "\n",
        "plt.figure(figsize=(16, 8))\n",
        "plt.subplot(1, 2, 1)\n",
        "plt.plot(epochs_range, acc, label='Training Accuracy')\n",
        "plt.plot(epochs_range, val_acc, label='Validation Accuracy')\n",
        "plt.legend(loc='lower right')\n",
        "plt.title('Training and Validation Accuracy')\n",
        "\n",
        "plt.subplot(1, 2, 2)\n",
        "plt.plot(epochs_range, loss, label='Training Loss')\n",
        "plt.plot(epochs_range, val_loss, label='Validation Loss')\n",
        "plt.legend(loc='upper right')\n",
        "plt.title('Training and Validation Loss')\n",
        "plt.show()"
      ]
    },
    {
      "cell_type": "code",
      "execution_count": 94,
      "metadata": {
        "colab": {
          "base_uri": "https://localhost:8080/"
        },
        "id": "8fh8fqGf9ZiK",
        "outputId": "93918d0f-a49a-4bdd-9964-7be9d2554574"
      },
      "outputs": [
        {
          "output_type": "stream",
          "name": "stdout",
          "text": [
            "63/63 [==============================] - 0s 3ms/step - loss: 0.0780 - accuracy: 0.9895\n"
          ]
        },
        {
          "output_type": "execute_result",
          "data": {
            "text/plain": [
              "[0.0780324935913086, 0.9894999861717224]"
            ]
          },
          "metadata": {},
          "execution_count": 94
        }
      ],
      "source": [
        "model.evaluate(test_images, test_labels)\n"
      ]
    },
    {
      "cell_type": "code",
      "execution_count": 95,
      "metadata": {
        "colab": {
          "base_uri": "https://localhost:8080/",
          "height": 99
        },
        "id": "XchPOc5r9Zkq",
        "outputId": "8ac15d64-1c57-4014-98a0-1ce2a0baa105"
      },
      "outputs": [
        {
          "output_type": "display_data",
          "data": {
            "text/plain": [
              "<Figure size 72x72 with 1 Axes>"
            ],
            "image/png": "[encoded data removed]"
          },
          "metadata": {}
        }
      ],
      "source": [
        "#Choose a random image from the test set\n",
        "random_image_index = np.random.choice(test_ds_size)\n",
        "random_image = test_images[random_image_index]\n",
        "# Use the trained model to predict the label of an image\n",
        "prediction = model.predict(random_image.reshape(1,28,28))\n",
        "score = tf.nn.softmax(prediction[0])\n",
        "predicted_label = list(score).index(max(score))\n",
        "# See the results\n",
        "plt.figure(figsize=(1,1))\n",
        "plt.xticks([])\n",
        "plt.yticks([])\n",
        "plt.grid(False)\n",
        "plt.imshow(random_image)\n",
        "plt.xlabel(class_names[predicted_label])\n",
        "plt.show()"
      ]
    },
    {
      "cell_type": "code",
      "execution_count": null,
      "metadata": {
        "id": "we2luKV69Zne"
      },
      "outputs": [],
      "source": [
        ""
      ]
    },
    {
      "cell_type": "code",
      "execution_count": null,
      "metadata": {
        "id": "y2RuZ25f9ZqI"
      },
      "outputs": [],
      "source": [
        ""
      ]
    }
  ],
  "metadata": {
    "colab": {
      "name": "Tarea 2 Arvayo Ortega.ipynb",
      "provenance": [],
      "authorship_tag": "ABX9TyPYo/roj5gHZ9VDiRD7NgoZ",
      "include_colab_link": true
    },
    "kernelspec": {
      "display_name": "Python 3",
      "name": "python3"
    },
    "language_info": {
      "name": "python"
    }
  },
  "nbformat": 4,
  "nbformat_minor": 0
}
